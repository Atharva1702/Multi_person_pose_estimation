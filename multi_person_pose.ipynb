{
  "nbformat": 4,
  "nbformat_minor": 0,
  "metadata": {
    "colab": {
      "provenance": []
    },
    "kernelspec": {
      "name": "python3",
      "display_name": "Python 3"
    },
    "language_info": {
      "name": "python"
    }
  },
  "cells": [
    {
      "cell_type": "code",
      "execution_count": null,
      "metadata": {
        "id": "Gg22jbZYNyaX"
      },
      "outputs": [],
      "source": [
        "import tensorflow as tf\n",
        "import cv2\n",
        "import matplotlib.pyplot as plt\n",
        "import numpy as np"
      ]
    },
    {
      "cell_type": "code",
      "source": [
        "import tensorflow_hub as hub\n",
        "from google.colab.patches import cv2_imshow"
      ],
      "metadata": {
        "id": "9NYaMXdkPoS1"
      },
      "execution_count": null,
      "outputs": []
    },
    {
      "cell_type": "markdown",
      "source": [
        "# Load model"
      ],
      "metadata": {
        "id": "YzkJJ1lZQbq1"
      }
    },
    {
      "cell_type": "code",
      "source": [
        "model = hub.load('https://tfhub.dev/google/movenet/multipose/lightning/1')\n",
        "movenet  = model.signatures['serving_default']  # extracting the model"
      ],
      "metadata": {
        "id": "22knILFVPtTh"
      },
      "execution_count": null,
      "outputs": []
    },
    {
      "cell_type": "code",
      "source": [
        "# from IPython.display import display, Javascript\n",
        "# from google.colab.output import eval_js\n",
        "# from base64 import b64decode\n",
        "\n",
        "# def take_photo(filename='photo.jpg', quality=0.8):\n",
        "#   js = Javascript('''\n",
        "#     async function takePhoto(quality) {\n",
        "#       const div = document.createElement('div');\n",
        "#       const capture = document.createElement('button');\n",
        "#       capture.textContent = 'Capture';\n",
        "#       div.appendChild(capture);\n",
        "\n",
        "#       const video = document.createElement('video');\n",
        "#       video.style.display = 'block';\n",
        "#       const stream = await navigator.mediaDevices.getUserMedia({video: true});\n",
        "\n",
        "#       document.body.appendChild(div);\n",
        "#       div.appendChild(video);\n",
        "#       video.srcObject = stream;\n",
        "#       await video.play();\n",
        "\n",
        "#       // Resize the output to fit the video element.\n",
        "#       google.colab.output.setIframeHeight(document.documentElement.scrollHeight, true);\n",
        "\n",
        "#       // Wait for Capture to be clicked.\n",
        "#       await new Promise((resolve) => capture.onclick = resolve);\n",
        "\n",
        "#       const canvas = document.createElement('canvas');\n",
        "#       canvas.width = video.videoWidth;\n",
        "#       canvas.height = video.videoHeight;\n",
        "#       canvas.getContext('2d').drawImage(video, 0, 0);\n",
        "#       stream.getVideoTracks()[0].stop();\n",
        "#       div.remove();\n",
        "#       return canvas.toDataURL('image/jpeg', quality);\n",
        "#     }\n",
        "#     ''')\n",
        "#   display(js)\n",
        "#   data = eval_js('takePhoto({})'.format(quality))\n",
        "#   binary = b64decode(data.split(',')[1])\n",
        "#   with open(filename, 'wb') as f:\n",
        "#     f.write(binary)\n",
        "#   return filename"
      ],
      "metadata": {
        "id": "ak2uyTVQTglj"
      },
      "execution_count": null,
      "outputs": []
    },
    {
      "cell_type": "code",
      "source": [
        "# from IPython.display import Image\n",
        "# try:\n",
        "#   filename = take_photo()\n",
        "#   print('Saved to {}'.format(filename))\n",
        "\n",
        "#   # Show the image which was just taken.\n",
        "#   display(Image(filename))\n",
        "# except Exception as err:\n",
        "#   # Errors will be thrown if the user does not have a webcam or if they do not\n",
        "#   # grant the page permission to access it.\n",
        "#   print(str(err))"
      ],
      "metadata": {
        "id": "NwX2CxbuTmMP"
      },
      "execution_count": null,
      "outputs": []
    },
    {
      "cell_type": "markdown",
      "source": [
        "# Web Cam"
      ],
      "metadata": {
        "id": "HIyIR3MTRDxn"
      }
    },
    {
      "cell_type": "code",
      "source": [
        "cap = cv2.VideoCapture(0)\n",
        "while cap.isOpened():\n",
        "  ret, frame = cap.read()\n",
        "\n",
        "  img = frame.copy()\n",
        "  img = tf.image.resize_with_pad(tf.expand_dims(img, axis = 0), 192, 256)\n",
        "  input_img = tf.cast(img, dtype = tf.int32)\n",
        "\n",
        "  results = movenet(input_img)\n",
        "  keypoints_with_score = results[].numpy()[:,:,:51].reshape((6,17,3))\n",
        "  loop_through_people(frame, keypoints_with_score, EDGES, 0.3)\n",
        "\n",
        "  # print(keypoints_with_score)\n",
        "\n",
        "\n",
        "\n",
        "\n",
        "  cv2_imshow('Movenet Multipose', frame)\n",
        "  if cv2.waitKey(10) & 0xFF == ord('q'):\n",
        "    break\n",
        "cap.release()\n",
        "cv2.destroyAllWindows()"
      ],
      "metadata": {
        "id": "uB1uN3w5RBVf"
      },
      "execution_count": null,
      "outputs": []
    },
    {
      "cell_type": "code",
      "source": [
        "# plt.imshow(cv2.cvtCOLOR(frame, cv2.COLOR_BRG2RGB))"
      ],
      "metadata": {
        "id": "XGi9RMPaRDMS"
      },
      "execution_count": null,
      "outputs": []
    },
    {
      "cell_type": "code",
      "source": [
        "results[].numpy()[:,:,:51].reshape((6,17,3))\n",
        "# this converts result into numpy array\n",
        "# result will have 3 values x coordinate , y coordinate, and the confidence value"
      ],
      "metadata": {
        "id": "h6eXAwYORDI-"
      },
      "execution_count": null,
      "outputs": []
    },
    {
      "cell_type": "code",
      "source": [
        "def loop_through_people(frame , keypoints_with_score, edges, confidence_threshold):\n",
        "  for person in keypoints_with_score:\n",
        "    draw_connections(frame, person, edges, confidence_threshold)\n",
        "    draw_keypoints(frame, person, confidence_threshold)"
      ],
      "metadata": {
        "id": "yT6p2egLaMRM"
      },
      "execution_count": null,
      "outputs": []
    },
    {
      "cell_type": "markdown",
      "source": [
        "# Draw Keypoints"
      ],
      "metadata": {
        "id": "enG481U3ZQMp"
      }
    },
    {
      "cell_type": "code",
      "source": [
        "def draw_keypoints(frame, keypoints, confidence_threshold):\n",
        "    y, x, c = frame.shape\n",
        "    shaped = np.squeeze(np.multiply(keypoints, [y,x,1]))\n",
        "\n",
        "    for kp in shaped:\n",
        "        ky, kx, kp_conf = kp\n",
        "        if kp_conf > confidence_threshold:\n",
        "            cv2.circle(frame, (int(kx), int(ky)), 6, (0,255,0), -1)"
      ],
      "metadata": {
        "id": "cVeIWh5ZRDGX"
      },
      "execution_count": null,
      "outputs": []
    },
    {
      "cell_type": "markdown",
      "source": [
        "# Draw Edges"
      ],
      "metadata": {
        "id": "jk--paMIZTnp"
      }
    },
    {
      "cell_type": "code",
      "source": [
        "EDGES = {\n",
        "    (0, 1): 'm',\n",
        "    (0, 2): 'c',\n",
        "    (1, 3): 'm',\n",
        "    (2, 4): 'c',\n",
        "    (0, 5): 'm',\n",
        "    (0, 6): 'c',\n",
        "    (5, 7): 'm',\n",
        "    (7, 9): 'm',\n",
        "    (6, 8): 'c',\n",
        "    (8, 10): 'c',\n",
        "    (5, 6): 'y',\n",
        "    (5, 11): 'm',\n",
        "    (6, 12): 'c',\n",
        "    (11, 12): 'y',\n",
        "    (11, 13): 'm',\n",
        "    (13, 15): 'm',\n",
        "    (12, 14): 'c',\n",
        "    (14, 16): 'c'\n",
        "}"
      ],
      "metadata": {
        "id": "rZdtduvXRDEF"
      },
      "execution_count": null,
      "outputs": []
    },
    {
      "cell_type": "code",
      "source": [
        "def draw_connections(frame, keypoints, edges, confidence_threshold):\n",
        "    y, x, c = frame.shape\n",
        "    shaped = np.squeeze(np.multiply(keypoints, [y,x,1]))\n",
        "\n",
        "    for edge, color in edges.items():\n",
        "        p1, p2 = edge\n",
        "        y1, x1, c1 = shaped[p1]\n",
        "        y2, x2, c2 = shaped[p2]\n",
        "\n",
        "        if (c1 > confidence_threshold) & (c2 > confidence_threshold):\n",
        "            cv2.line(frame, (int(x1), int(y1)), (int(x2), int(y2)), (0,0,255), 4)"
      ],
      "metadata": {
        "id": "L4gH1gqiZZfQ"
      },
      "execution_count": null,
      "outputs": []
    }
  ]
}